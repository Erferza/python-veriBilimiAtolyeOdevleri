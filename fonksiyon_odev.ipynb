{
 "cells": [
  {
   "cell_type": "markdown",
   "metadata": {},
   "source": [
    "#### Ödev 1\n",
    "Kullanıcıdan pi değeri ve yarıçap bilgisi alarak dairenin alanını hesaplayan bir fonksiyon oluşturulur."
   ]
  },
  {
   "cell_type": "code",
   "execution_count": 3,
   "metadata": {
    "vscode": {
     "languageId": "plaintext"
    }
   },
   "outputs": [
    {
     "name": "stdin",
     "output_type": "stream",
     "text": [
      "pi değerini giriniz: 3.14\n",
      "dairenin yarıçapını giriniz: 5\n"
     ]
    },
    {
     "data": {
      "text/plain": [
       "78.5"
      ]
     },
     "execution_count": 3,
     "metadata": {},
     "output_type": "execute_result"
    }
   ],
   "source": [
    "def alan_hesaplama(pi, yaricap):\n",
    "    daire_alani=pi*yaricap*yaricap\n",
    "    return daire_alani\n",
    "pi=float(input(\"pi değerini giriniz:\"))\n",
    "yaricap=int(input(\"dairenin yarıçapını giriniz:\"))\n",
    "alan_hesaplama(pi, yaricap)"
   ]
  },
  {
   "cell_type": "markdown",
   "metadata": {},
   "source": [
    "#### Ödev 2\n",
    "\n",
    "Faktöriyel adında fonksiyon oluşturulur. Döngü kullanarak parametre olarak girilen sayının faktöriyeli hesaplanır. Format metodunu kullanılarak ekrana yazdırılır."
   ]
  },
  {
   "cell_type": "code",
   "execution_count": 5,
   "metadata": {
    "vscode": {
     "languageId": "plaintext"
    }
   },
   "outputs": [
    {
     "name": "stdin",
     "output_type": "stream",
     "text": [
      "faktöriyelini hesaplamak istediğiniz sayıyı giriniz: 4\n"
     ]
    },
    {
     "name": "stdout",
     "output_type": "stream",
     "text": [
      "girilen 0 sayısının faktöriyel sonucu: 24 dir.\n"
     ]
    }
   ],
   "source": [
    "def faktoriyel(sayi):\n",
    "    sonuc=1\n",
    "    while sayi>0:\n",
    "        sonuc=sonuc*sayi\n",
    "        sayi-=1\n",
    "    print(\"girilen {} sayısının faktöriyel sonucu: {} dir.\" .format(sayi,sonuc))\n",
    "\n",
    "sayi=int(input(\"faktöriyelini hesaplamak istediğiniz sayıyı giriniz:\"))\n",
    "faktoriyel(sayi)\n"
   ]
  },
  {
   "cell_type": "markdown",
   "metadata": {},
   "source": [
    "#### Ödev 3\n",
    "Kişinin fonksiyona doğum yılını vererek kaç yaşında olduğunu hesaplayan bir fonksiyon oluşturun. "
   ]
  },
  {
   "cell_type": "code",
   "execution_count": 6,
   "metadata": {
    "vscode": {
     "languageId": "plaintext"
    }
   },
   "outputs": [
    {
     "name": "stdin",
     "output_type": "stream",
     "text": [
      "doğum yılınızı giriniz: 2003\n"
     ]
    },
    {
     "name": "stdout",
     "output_type": "stream",
     "text": [
      "kullanıcı 22 yaşındadır.\n"
     ]
    }
   ],
   "source": [
    "def yas_hesaplama(dogum_yili):\n",
    "    return 2025-dogum_yili\n",
    "dogum_yili=int(input(\"doğum yılınızı giriniz:\"))\n",
    "print(\"kullanıcı {} yaşındadır.\" .format(yas_hesaplama(dogum_yili)))\n"
   ]
  },
  {
   "cell_type": "markdown",
   "metadata": {},
   "source": [
    "#### Ödev 4\n",
    "\n",
    "Doğum yılı ve isim bilgisi verilen fonksiyon kişinin emekli olup olmadığını söylesin.(Kişi 65 yaşında ise emekli olur.) Burada yaş hesabını yukarıdaki örnekteki fonksiyonu kullanarak yapsın.(Yani fonksiyon içinde fonksiyon kullanmanızı istiyorum :)) Kişi 65 yaşında ya da daha fazlaysa \"Emekli oldunuz\" yanıtını, 65 yaşından küçükse emekliliğine kaç yıl kaldığını da hesaplayarak \"(isim) emekliliğine (yıl) kaldı.\" yanıtını versin."
   ]
  },
  {
   "cell_type": "code",
   "execution_count": 11,
   "metadata": {
    "vscode": {
     "languageId": "plaintext"
    }
   },
   "outputs": [
    {
     "name": "stdin",
     "output_type": "stream",
     "text": [
      "adınızı giriniz: ahmet\n",
      "doğum yılınızı giriniz: 1940\n"
     ]
    },
    {
     "name": "stdout",
     "output_type": "stream",
     "text": [
      "emekli oldunuz.\n"
     ]
    }
   ],
   "source": [
    " def yas_hesaplama(dogum_yili):\n",
    "    return 2025-dogum_yili\n",
    "def emekli_mi(dogum_yili, isim):\n",
    "    if yas_hesaplama(dogum_yili)>=65:\n",
    "        print(\"emekli oldunuz.\")\n",
    "    else:\n",
    "        kalan=65- (yas_hesaplama(dogum_yili))\n",
    "        print(\" {} emekliliğine {} yıl kaldı.\" .format(isim, kalan))\n",
    "\n",
    "isim=input(\"adınızı giriniz:\")\n",
    "dogum_yili=int(input(\"doğum yılınızı giriniz:\"))\n",
    "emekli_mi(dogum_yili, isim)\n",
    "\n"
   ]
  },
  {
   "cell_type": "code",
   "execution_count": null,
   "metadata": {},
   "outputs": [],
   "source": []
  }
 ],
 "metadata": {
  "kernelspec": {
   "display_name": "Python 3 (ipykernel)",
   "language": "python",
   "name": "python3"
  },
  "language_info": {
   "codemirror_mode": {
    "name": "ipython",
    "version": 3
   },
   "file_extension": ".py",
   "mimetype": "text/x-python",
   "name": "python",
   "nbconvert_exporter": "python",
   "pygments_lexer": "ipython3",
   "version": "3.12.7"
  }
 },
 "nbformat": 4,
 "nbformat_minor": 4
}
