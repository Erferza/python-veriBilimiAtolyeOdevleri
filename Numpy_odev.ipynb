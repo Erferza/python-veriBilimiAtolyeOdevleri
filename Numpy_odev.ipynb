{
 "cells": [
  {
   "cell_type": "markdown",
   "id": "a0f6364d",
   "metadata": {},
   "source": [
    "##### 1.Sayılardan oluşan bir boyutlu array oluşturun. Arrayi oluştururken sayıların veri tipini integer olarak belirtelim.\n",
    "\n",
    "Oluşturulan arrayin boyut, eleman sayısı bilgilerine bakalım."
   ]
  },
  {
   "cell_type": "code",
   "execution_count": 7,
   "id": "c16c30a6",
   "metadata": {},
   "outputs": [
    {
     "name": "stdout",
     "output_type": "stream",
     "text": [
      "Defaulting to user installation because normal site-packages is not writeable\n",
      "Requirement already satisfied: numpy in c:\\programdata\\anaconda3\\lib\\site-packages (1.26.4)\n",
      "arr1'in boyutu: 1\n",
      "arr2'nin boyutu: 2\n",
      "arr1'in eleman sayısı: 5\n",
      "arr1'nin eleman sayısı: 6\n"
     ]
    }
   ],
   "source": [
    "!pip install numpy\n",
    "import numpy as np\n",
    "arr1=np.array([1,2,3,4,5],dtype=\"int\")\n",
    "arr2=np.array([[1,2,3],[4,5,6]])\n",
    "print(\"arr1'in boyutu:\",arr1.ndim)\n",
    "print(\"arr2'nin boyutu:\",arr2.ndim)\n",
    "print(\"arr1'in eleman sayısı:\",arr1.size)\n",
    "print(\"arr1'nin eleman sayısı:\",arr2.size)\n"
   ]
  },
  {
   "cell_type": "markdown",
   "id": "1681f851",
   "metadata": {},
   "source": [
    "##### 2. Aşağıda verilen iki boyutlu ve üç boyutlu arrayi oluşturalım. Bu arraylerin boyut, eleman sayısı, satır, sütun bilgilerine ulaşalım. \n",
    "\n",
    "İki boyutlu array:\n",
    "[[1,2,6,7],\n",
    " [4,3,9,5]]\n",
    "\n",
    "Üç boyutlu array:\n",
    "[[[7,5,14],[21,8,11]],\n",
    " [[8,6,20],[14,3,9]]]\n",
    "\n",
    " "
   ]
  },
  {
   "cell_type": "code",
   "execution_count": 9,
   "id": "e3a138ed",
   "metadata": {},
   "outputs": [
    {
     "name": "stdout",
     "output_type": "stream",
     "text": [
      "arr2'nin buyutu: 2\n",
      "arr2'nin eleman sayısı: 8\n",
      "arr2'nin satır ve sütun bilgisi: (2, 4)\n",
      "-------------\n",
      "arr3'nin buyutu: 3\n",
      "arr3'nin eleman sayısı: 12\n",
      "arr3'nin satır ve sütun bilgisi: (2, 2, 3)\n"
     ]
    }
   ],
   "source": [
    "arr2=np.array([[1,2,6,7],[4,3,9,5]])\n",
    "arr3=np.array([[[7,5,14],[21,8,11]],[[8,6,20],[14,3,9]]])\n",
    "print(\"arr2'nin buyutu:\",arr2.ndim)\n",
    "print(\"arr2'nin eleman sayısı:\",arr2.size)\n",
    "print(\"arr2'nin satır ve sütun bilgisi:\",arr2.shape)\n",
    "print(\"-------------\")\n",
    "print(\"arr3'nin buyutu:\",arr3.ndim)\n",
    "print(\"arr3'nin eleman sayısı:\",arr3.size)\n",
    "print(\"arr3'nin satır ve sütun bilgisi:\",arr3.shape)\n"
   ]
  },
  {
   "cell_type": "markdown",
   "id": "b45192b0",
   "metadata": {},
   "source": [
    "##### 3. İstenilen elamanlara ulaşmak için arrayler üzerinde indexleme işlemi yapalım"
   ]
  },
  {
   "cell_type": "code",
   "execution_count": 10,
   "id": "563f9992",
   "metadata": {},
   "outputs": [
    {
     "data": {
      "text/plain": [
       "2"
      ]
     },
     "execution_count": 10,
     "metadata": {},
     "output_type": "execute_result"
    }
   ],
   "source": [
    "#İki boyutlu arraydaki 2 elemanına ulaşalım\n",
    "arr2=np.array([[1,2,6,7],[4,3,9,5]])\n",
    "arr2[0,1]"
   ]
  },
  {
   "cell_type": "code",
   "execution_count": 11,
   "id": "fd0a0be4",
   "metadata": {},
   "outputs": [
    {
     "data": {
      "text/plain": [
       "7"
      ]
     },
     "execution_count": 11,
     "metadata": {},
     "output_type": "execute_result"
    }
   ],
   "source": [
    "#İki boyutlu arraydaki 7 elemanına ulaşalım\n",
    "arr2=np.array([[1,2,6,7],[4,3,9,5]])\n",
    "arr2[0,3]\n"
   ]
  },
  {
   "cell_type": "code",
   "execution_count": 12,
   "id": "0c2b1884",
   "metadata": {},
   "outputs": [
    {
     "data": {
      "text/plain": [
       "9"
      ]
     },
     "execution_count": 12,
     "metadata": {},
     "output_type": "execute_result"
    }
   ],
   "source": [
    "#Üç boyutlu arraydaki 9 elemanına ulaşalım\n",
    "arr3=np.array([[[7,5,14],[21,8,11]],[[8,6,20],[14,3,9]]])\n",
    "arr3[1,1,2]"
   ]
  },
  {
   "cell_type": "code",
   "execution_count": 13,
   "id": "0dc07d00",
   "metadata": {},
   "outputs": [
    {
     "data": {
      "text/plain": [
       "5"
      ]
     },
     "execution_count": 13,
     "metadata": {},
     "output_type": "execute_result"
    }
   ],
   "source": [
    "#Üç boyutlu arraydaki 5 elemanına ulaşalım\n",
    "arr3=np.array([[[7,5,14],[21,8,11]],[[8,6,20],[14,3,9]]])\n",
    "arr3[0,0,1]"
   ]
  },
  {
   "cell_type": "markdown",
   "id": "12198bc9",
   "metadata": {},
   "source": [
    "##### 4. Arrayler üzerinde slicing işlemi uygulayalım."
   ]
  },
  {
   "cell_type": "code",
   "execution_count": 14,
   "id": "9d066ba1",
   "metadata": {},
   "outputs": [
    {
     "data": {
      "text/plain": [
       "array([2, 6])"
      ]
     },
     "execution_count": 14,
     "metadata": {},
     "output_type": "execute_result"
    }
   ],
   "source": [
    "#İki boyutlu arraydaki 2,6 elemanlarına ulaşalım\n",
    "arr2=np.array([[1,2,6,7],[4,3,9,5]])\n",
    "arr2[0,1:3]\n"
   ]
  },
  {
   "cell_type": "code",
   "execution_count": 15,
   "id": "e020f980",
   "metadata": {},
   "outputs": [
    {
     "data": {
      "text/plain": [
       "array([3, 9, 5])"
      ]
     },
     "execution_count": 15,
     "metadata": {},
     "output_type": "execute_result"
    }
   ],
   "source": [
    "#İki boyutlu arraydaki 3,9,5 elemanlarına ulaşalım\n",
    "arr2=np.array([[1,2,6,7],[4,3,9,5]])\n",
    "arr2[1,1:]\n"
   ]
  },
  {
   "cell_type": "code",
   "execution_count": 16,
   "id": "891bed31",
   "metadata": {},
   "outputs": [
    {
     "data": {
      "text/plain": [
       "array([21,  8, 11])"
      ]
     },
     "execution_count": 16,
     "metadata": {},
     "output_type": "execute_result"
    }
   ],
   "source": [
    "#Üç boyutlu arraydaki 21,8,11 elemanlarına ulaşalım\n",
    "arr3=np.array([[[7,5,14],[21,8,11]],[[8,6,20],[14,3,9]]])\n",
    "arr3[0,1,:]"
   ]
  },
  {
   "cell_type": "code",
   "execution_count": 17,
   "id": "bcbf5f17",
   "metadata": {},
   "outputs": [
    {
     "data": {
      "text/plain": [
       "array([ 6, 20])"
      ]
     },
     "execution_count": 17,
     "metadata": {},
     "output_type": "execute_result"
    }
   ],
   "source": [
    "#Üç boyutlu arraydaki 6,20 elemanlarına ulaşalım\n",
    "arr3=np.array([[[7,5,14],[21,8,11]],[[8,6,20],[14,3,9]]])\n",
    "arr3[1,0,1:]\n"
   ]
  },
  {
   "cell_type": "markdown",
   "id": "66d2aab8",
   "metadata": {},
   "source": [
    "##### 5. 5 satır 3 sütunluk sıfırlardan ve birlerden oluşan iki tane iki boyutlu array oluşturalım. Bu arrayleri satır ve sütun bazında birleştirelim."
   ]
  },
  {
   "cell_type": "code",
   "execution_count": 22,
   "id": "99a6ed29",
   "metadata": {},
   "outputs": [
    {
     "name": "stdout",
     "output_type": "stream",
     "text": [
      "arr1: [[0 0 0]\n",
      " [0 0 0]\n",
      " [0 0 0]\n",
      " [0 0 0]\n",
      " [0 0 0]]\n",
      "arr2: [[1 1 1]\n",
      " [1 1 1]\n",
      " [1 1 1]\n",
      " [1 1 1]\n",
      " [1 1 1]]\n",
      "satır bazında birleştirme:\n",
      "[[0 0 0]\n",
      " [0 0 0]\n",
      " [0 0 0]\n",
      " [0 0 0]\n",
      " [0 0 0]\n",
      " [1 1 1]\n",
      " [1 1 1]\n",
      " [1 1 1]\n",
      " [1 1 1]\n",
      " [1 1 1]]\n",
      "sütun bazında birleştirme:\n",
      "[[0 0 0 1 1 1]\n",
      " [0 0 0 1 1 1]\n",
      " [0 0 0 1 1 1]\n",
      " [0 0 0 1 1 1]\n",
      " [0 0 0 1 1 1]]\n"
     ]
    }
   ],
   "source": [
    "import numpy as np\n",
    "arr1=np.zeros((5,3),dtype=\"int\")\n",
    "arr2=np.ones((5,3),dtype=\"int\")\n",
    "print(\"arr1:\",arr1)\n",
    "print(\"arr2:\",arr2)\n",
    "satir_birlestirme=np.concatenate((arr1,arr2),axis=0)\n",
    "print(\"satır bazında birleştirme:\")\n",
    "print(satir_birlestirme)\n",
    "sutun_birlestirme=np.concatenate((arr1,arr2),axis=1)\n",
    "print(\"sütun bazında birleştirme:\")\n",
    "print(sutun_birlestirme)\n"
   ]
  },
  {
   "cell_type": "code",
   "execution_count": null,
   "id": "27a7e4c1-0ba6-44f3-95e5-80403ae2757e",
   "metadata": {},
   "outputs": [],
   "source": []
  }
 ],
 "metadata": {
  "kernelspec": {
   "display_name": "Python 3 (ipykernel)",
   "language": "python",
   "name": "python3"
  },
  "language_info": {
   "codemirror_mode": {
    "name": "ipython",
    "version": 3
   },
   "file_extension": ".py",
   "mimetype": "text/x-python",
   "name": "python",
   "nbconvert_exporter": "python",
   "pygments_lexer": "ipython3",
   "version": "3.12.7"
  }
 },
 "nbformat": 4,
 "nbformat_minor": 5
}
