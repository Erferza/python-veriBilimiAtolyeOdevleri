{
 "cells": [
  {
   "cell_type": "markdown",
   "metadata": {
    "id": "tE9ZjH5lQn2-"
   },
   "source": [
    "### Ödev 1\n",
    "\n",
    "liste = [\"Python\",True,9,\"3\",8.4,\"Hi-Kod\",\"False\",4.7]\n",
    "\n",
    "1. Aşağıdaki işlemleri indexing ve slicing kullanarak liste üzerinde uygulayın.\n",
    "\n",
    "   - \"3\" değerine ulaşmak için indexleme yapın.\n",
    "   - \"Hi-Kod\" değerine ulaşmak için indexleme yapın.\n",
    "   - 4.7 değerine ulaşmak için indexleme yapın.\n",
    "   - 9,\"3\",8.4,\"Hi-Kod\" değerlerine ulaşmak için slicing yapın.\n",
    "   - 8.4,\"Hi-Kod\",\"False\",4.7 değerlerine ulaşmak için slicing yapın."
   ]
  },
  {
   "cell_type": "code",
   "execution_count": 7,
   "metadata": {
    "id": "AhOkYXjIQn3E"
   },
   "outputs": [
    {
     "data": {
      "text/plain": [
       "[8.4, 'Hi-Kod', 'False', 4.7]"
      ]
     },
     "execution_count": 7,
     "metadata": {},
     "output_type": "execute_result"
    }
   ],
   "source": [
    "liste=[\"Python\", True,9,\"3\",8.4,\"Hi-Kod\",\"False\",4.7]\n",
    "liste[3]\n",
    "liste[5]\n",
    "liste[-1]\n",
    "liste[2:6]\n",
    "liste[4:]\n"
   ]
  },
  {
   "cell_type": "markdown",
   "metadata": {
    "id": "PU_vatZVQn3E"
   },
   "source": [
    "### Ödev 2\n",
    "\n",
    "Verilen listede bulunan string veri tipindeki öğeleri yeni_liste isimli listeye eklenir.\n",
    "\n",
    "liste = [\"Python\",True,9,\"3\",8.4,\"Hi-Kod\",\"False\",4.7]"
   ]
  },
  {
   "cell_type": "code",
   "execution_count": 10,
   "metadata": {
    "id": "k036-a4qQn3F"
   },
   "outputs": [
    {
     "name": "stdout",
     "output_type": "stream",
     "text": [
      "['Python', '3', 'Hi-Kod', 'False']\n"
     ]
    }
   ],
   "source": [
    "liste=[\"Python\", True,9,\"3\",8.4,\"Hi-Kod\",\"False\",4.7]\n",
    "yeni_liste=[]\n",
    "for i in liste:\n",
    "    if type(i)==str:\n",
    "        yeni_liste.append(i)\n",
    "print(yeni_liste)\n"
   ]
  },
  {
   "cell_type": "markdown",
   "metadata": {
    "id": "LKspMidRQn3G"
   },
   "source": [
    "### Ödev 3\n",
    "\n",
    "Enumerate methodunu araştırın ve aşağıdaki örneği enumerate methodu ile yapın."
   ]
  },
  {
   "cell_type": "code",
   "execution_count": null,
   "metadata": {
    "id": "uKwshjmAQn3G"
   },
   "outputs": [],
   "source": [
    "for index in range(len(meyveler)):\n",
    "\n",
    "    print(\"{}. indexte bulunan meyve: {}\".format(index,meyveler[index]))"
   ]
  },
  {
   "cell_type": "markdown",
   "metadata": {
    "id": "M_DfcqxXQubL"
   },
   "source": [
    "## Sozluk"
   ]
  },
  {
   "cell_type": "markdown",
   "metadata": {
    "id": "ZMXFFucEQxxD"
   },
   "source": [
    "1. Bir sözlük oluşturulur ve bu sözlükte öğrencilerin isimleri ve Matematik, Fizik, Kimya notları tutulur. Kullanıcıdan isim ve ders ismi(Matematik, Fizik, Kimya) istenir ve bu bilgilere göre çıktı verilir."
   ]
  },
  {
   "cell_type": "markdown",
   "metadata": {
    "id": "8NJYTepzQ13V"
   },
   "source": [
    "2. Sözlük üzerinde değerleri değiştirme, yeni değer ekleme, kullanıcıya ulaşmak istediği bilgileri sorma gibi uygulamalar yapın."
   ]
  },
  {
   "cell_type": "code",
   "execution_count": 14,
   "metadata": {
    "id": "Sl7EK7FDQsW1"
   },
   "outputs": [
    {
     "name": "stdin",
     "output_type": "stream",
     "text": [
      "notunu öğrenmek istediğiniz öğrencinin adını giriniz: elif gündüz\n",
      "ders adını giriniz: kimya\n"
     ]
    },
    {
     "name": "stdout",
     "output_type": "stream",
     "text": [
      "59\n",
      "{'ahmet yağız': {'matematik': '70', 'fizik': '67', 'kimya': '90'}, 'ayşe doğan': {'matematik': '98', 'fizik': 50, 'kimya': '80'}, 'elif gündüz': {'matematik': '70', 'fizik': '42', 'kimya': '59'}, 'mustafa eren': {'matematik': '45', 'fizik': '65', 'kimya': '79'}}\n",
      "{'ahmet yağız': {'matematik': '70', 'fizik': '67', 'kimya': '90'}, 'ayşe doğan': {'matematik': '98', 'fizik': 50, 'kimya': '80'}, 'elif gündüz': {'matematik': '70', 'fizik': '42', 'kimya': '59'}, 'mustafa eren': {'matematik': '45', 'fizik': '65', 'kimya': '79', 'felsefe': 98}}\n"
     ]
    }
   ],
   "source": [
    "Sozluk={\"ahmet yağız\":{\"matematik\":\"70\",\n",
    "                       \"fizik\":\"67\",\n",
    "                       \"kimya\":\"90\"},\n",
    "        \"ayşe doğan\":{\"matematik\":\"98\",\n",
    "                       \"fizik\":\"32\",\n",
    "                       \"kimya\":\"80\"},\n",
    "        \"elif gündüz\":{\"matematik\":\"70\",\n",
    "                       \"fizik\":\"42\",\n",
    "                       \"kimya\":\"59\"},\n",
    "        \"mustafa eren\":{\"matematik\":\"45\",\n",
    "                       \"fizik\":\"65\",\n",
    "                       \"kimya\":\"79\"}} \n",
    "isim=input(\"notunu öğrenmek istediğiniz öğrencinin adını giriniz:\")\n",
    "ders=input(\"ders adını giriniz:\")\n",
    "print(Sozluk[isim][ders])\n",
    "\n",
    "Sozluk[\"ayşe doğan\"][\"fizik\"]=50\n",
    "print(Sozluk)\n",
    "\n",
    "Sozluk[\"mustafa eren\"][\"felsefe\"]=98\n",
    "print(Sozluk)\n",
    "\n",
    " \n",
    "        \n"
   ]
  },
  {
   "cell_type": "code",
   "execution_count": null,
   "metadata": {},
   "outputs": [],
   "source": []
  }
 ],
 "metadata": {
  "colab": {
   "provenance": []
  },
  "kernelspec": {
   "display_name": "Python 3 (ipykernel)",
   "language": "python",
   "name": "python3"
  },
  "language_info": {
   "codemirror_mode": {
    "name": "ipython",
    "version": 3
   },
   "file_extension": ".py",
   "mimetype": "text/x-python",
   "name": "python",
   "nbconvert_exporter": "python",
   "pygments_lexer": "ipython3",
   "version": "3.12.7"
  }
 },
 "nbformat": 4,
 "nbformat_minor": 4
}
