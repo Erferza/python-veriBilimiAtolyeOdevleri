{
 "cells": [
  {
   "cell_type": "markdown",
   "id": "409f0f4a",
   "metadata": {},
   "source": [
    "**Ödev-1:** Kullanıcıdan maaş bilgisini istenir ve bu bilgiye göre maaşından ne kadar vergi kesileceğini hesaplanır. Kullanıcının geliri;\n",
    "\n",
    "1. 10000 ve altındaysa maaşından %5 kesinti olur.\n",
    "2. 25000 ve altındaysa maaşından %10 kesinti olur.\n",
    "3. 45000 ve altındaysa maaşından %25 kesinti olur.\n",
    "4. Diğer koşullarda %30 kesinti olur.\n",
    "\n",
    "Bu durumlara göre kullanıcının yeni maaşı yazdırılır."
   ]
  },
  {
   "cell_type": "code",
   "execution_count": 6,
   "id": "5246e510",
   "metadata": {},
   "outputs": [
    {
     "name": "stdin",
     "output_type": "stream",
     "text": [
      "maaşınızı giriniz: 800000\n"
     ]
    },
    {
     "name": "stdout",
     "output_type": "stream",
     "text": [
      "yeni maaş: 560000.0\n"
     ]
    }
   ],
   "source": [
    "maas=int(input(\"maaşınızı giriniz:\"))\n",
    "if maas<=10000:\n",
    "    yeni_maas=10000-(10000*0.5)\n",
    "    print(\"yeni maaş:\",yeni_maas)\n",
    "elif maas<=25000:\n",
    "    yeni_maas=25000-(25000*0.1)\n",
    "    print(\"yeni maaş:\",yeni_maas)\n",
    "elif maas<=45000:\n",
    "    yeni_maas=45000-(45000*0.25)\n",
    "    print(\"yeni maaş:\",yeni_maas)\n",
    "else:\n",
    "    yeni_maas=maas-(maas*0.3)\n",
    "    print(\"yeni maaş:\",yeni_maas)\n",
    "    "
   ]
  },
  {
   "cell_type": "markdown",
   "id": "f5fe8798",
   "metadata": {},
   "source": [
    "**Ödev-2:** Kullanıcıdan kullanıcı adı ve şifre oluşturmasını istenir. Şifrenin uzunluğu altı haneye ulaşmışsa hesabınız oluşturuldu mesajı alınır, altı haneden azsa altı haneli şifre oluşturması gerektiğinin mesajı alınır. *(Sadece koşul kullanılması yeterli.)*"
   ]
  },
  {
   "cell_type": "code",
   "execution_count": 8,
   "id": "6acffe57",
   "metadata": {},
   "outputs": [
    {
     "name": "stdin",
     "output_type": "stream",
     "text": [
      "kullanıcı addınızı giriniz: ferza\n",
      "şifrenizi giriniz: ferza1\n"
     ]
    },
    {
     "name": "stdout",
     "output_type": "stream",
     "text": [
      "hesabınız oluşturuldu.\n"
     ]
    }
   ],
   "source": [
    "kullanici_adi=input(\"kullanıcı addınızı giriniz:\")\n",
    "sifre=input(\"şifrenizi giriniz:\")\n",
    "if len(sifre)==6:\n",
    "    print(\"hesabınız oluşturuldu.\")\n",
    "else:\n",
    "    print(\"altı haneli bir şifre oluşturunuz.\")\n",
    "\n"
   ]
  },
  {
   "cell_type": "markdown",
   "id": "aaccf11a",
   "metadata": {},
   "source": [
    "**Ödev-3:** Bir önceki örnek geliştirilir.\n",
    "\n",
    "1. Kullanıcı girdiği şifre 5 ve 10 hane arasında olmak zorunda.\n",
    "2. Eğer bu koşula uyuyorsa \"Hesabınız oluşturuldu.\" mesajı alır.\n",
    "3. Koşulu sağlamıyorsa \"Lütfen girdiniz şifre 5 haneden az 10 haneden fazla olmasın!\" uyarısı alır.\n",
    "4. Bunu oluştururken kullanıcı istediğimiz şartlarda şifre oluşturana kadar sormaya devam eder"
   ]
  },
  {
   "cell_type": "code",
   "execution_count": 10,
   "id": "039e50dc",
   "metadata": {},
   "outputs": [
    {
     "name": "stdin",
     "output_type": "stream",
     "text": [
      "şifrenizi oluşturunuz. 1234\n"
     ]
    },
    {
     "name": "stdout",
     "output_type": "stream",
     "text": [
      "lütfen girdiğiniz şifre 5 haneden az 10 haneden fazla olmasın.\n"
     ]
    },
    {
     "name": "stdin",
     "output_type": "stream",
     "text": [
      "şifrenizi oluşturunuz. 123456\n"
     ]
    },
    {
     "name": "stdout",
     "output_type": "stream",
     "text": [
      "hesabınız oluşturuldu.\n"
     ]
    }
   ],
   "source": [
    "while True:\n",
    "    sifre=input(\"şifrenizi oluşturunuz.\")\n",
    "    if 5<= len(sifre) <=10:\n",
    "        print(\"hesabınız oluşturuldu.\")\n",
    "        break\n",
    "    else:\n",
    "        print(\"lütfen girdiğiniz şifre 5 haneden az 10 haneden fazla olmasın.\")"
   ]
  },
  {
   "cell_type": "markdown",
   "id": "8ba81863",
   "metadata": {},
   "source": [
    "**Ödev-4:** Kullanıcıdan isim ve şifre isteyeceğiz ve şifre girişi için üç hak verilir.\n",
    "\n",
    "1. Eğer önceden tanımlı şifre ile kullanıcıdan gelen şifre aynıysa \"Giriş yapıldı.\" yazar.\n",
    "2. Şifre girişi yanlışsa \"Yanlış şifre girildi!\" uyarısı verilsin ve üç yanlış denemede program biter.\n",
    "3. Tercihe göre kalan hak bilgisi verilir."
   ]
  },
  {
   "cell_type": "code",
   "execution_count": null,
   "id": "afa2f405-70c2-4fe7-8a9a-e35a48cb4b9f",
   "metadata": {},
   "outputs": [],
   "source": [
    "kullanici_adi=input(\"kullanıcı adınızı giriniz:\")\n",
    "sifre=input(\"şifrenizi oluşturunuz:\")\n",
    "x=3\n",
    "while x>0:\n",
    "    tahmin=input(\"şifrenizi giriniz:\")\n",
    "    if tahmin==sifre:\n",
    "        print(\"giriş yapıldı.\")\n",
    "        break\n",
    "    else:\n",
    "        x-=1\n",
    "        print(\"yanlış şifre girildi!\")\n",
    "        if x==0:\n",
    "            print(\"3 kez yanlış girdiniz. hesabınız sonlandırıldı.\")"
   ]
  },
  {
   "cell_type": "code",
   "execution_count": null,
   "id": "8f3ec454-62e7-4d6f-919e-d16141b37eec",
   "metadata": {},
   "outputs": [],
   "source": []
  }
 ],
 "metadata": {
  "kernelspec": {
   "display_name": "Python 3 (ipykernel)",
   "language": "python",
   "name": "python3"
  },
  "language_info": {
   "codemirror_mode": {
    "name": "ipython",
    "version": 3
   },
   "file_extension": ".py",
   "mimetype": "text/x-python",
   "name": "python",
   "nbconvert_exporter": "python",
   "pygments_lexer": "ipython3",
   "version": "3.12.7"
  }
 },
 "nbformat": 4,
 "nbformat_minor": 5
}
