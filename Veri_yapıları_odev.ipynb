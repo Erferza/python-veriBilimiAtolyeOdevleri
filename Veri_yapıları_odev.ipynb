{
 "cells": [
  {
   "cell_type": "markdown",
   "id": "032d81b2",
   "metadata": {},
   "source": [
    "# 1\n",
    "x = 3 ----> floata çevirelim. Çevirdikten sonra beri tipinide yazdıralım.\n",
    "\n",
    "y = 4.5 -----> integere çevirelim. Çevirdikten sonra beri tipinide yazdıralım.\n",
    "\n",
    "z = \"8\" -----> integera çevirelim. Çevirdikten sonra beri tipinide yazdıralım.\n",
    "\n",
    "a = \"12\" -----> floata çevirelim. Çevirdikten sonra beri tipinide yazdıralım.\n",
    "\n",
    "b = \"46.8\" ------> integera çevirelim. Çevirdikten sonra beri tipinide yazdıralım."
   ]
  },
  {
   "cell_type": "code",
   "execution_count": 3,
   "id": "f1b735c0",
   "metadata": {},
   "outputs": [
    {
     "name": "stdout",
     "output_type": "stream",
     "text": [
      "x'in floata çevrilmiş hali:  3.0\n",
      "veri tipi: <class 'float'>\n",
      "y'nin integere çevrilmiş hali:  4\n",
      "veri tipi: <class 'int'>\n",
      "z'nin integere çevrilmiş hali:  8\n",
      "veri tipi: <class 'int'>\n",
      "a'nin floata çevrilmiş hali: 12.0\n",
      "veri tipi:  <class 'float'>\n",
      "b'nin integere çevrilmiş hali: 46\n",
      "veri tipi:  <class 'int'>\n"
     ]
    }
   ],
   "source": [
    "x=3\n",
    "x=float(x)\n",
    "print(\"x'in floata çevrilmiş hali: \",x)\n",
    "print(\"veri tipi:\",type(x))\n",
    "\n",
    "y=4.5\n",
    "y=int(y)\n",
    "print(\"y'nin integere çevrilmiş hali: \",y)\n",
    "print(\"veri tipi:\" ,type(y))\n",
    "\n",
    "z=\"8\"\n",
    "z=int(z)\n",
    "print(\"z'nin integere çevrilmiş hali: \",z)\n",
    "print(\"veri tipi:\",type(z))\n",
    "\n",
    "a=\"12\"\n",
    "a=float(a)\n",
    "print(\"a'nin floata çevrilmiş hali:\", a)\n",
    "print(\"veri tipi: \",type(a))\n",
    "\n",
    "b=\"46.8\"\n",
    "b=int(46.8)\n",
    "print(\"b'nin integere çevrilmiş hali:\", b)\n",
    "print(\"veri tipi: \",type(b))"
   ]
  },
  {
   "cell_type": "markdown",
   "id": "95509718",
   "metadata": {},
   "source": [
    "# 2 \n",
    "İsimlerden oluşan üç değişkene yaş değerleri atanır. Belirlenen üç değişken birbiriyle karşılaştırma operatörleri ile karşılaştırılır. Bu karşılaştırmalara mantıksal operatörler de eklenir."
   ]
  },
  {
   "cell_type": "code",
   "execution_count": 2,
   "id": "50f77b4f",
   "metadata": {},
   "outputs": [
    {
     "name": "stdout",
     "output_type": "stream",
     "text": [
      "ferza, beyza ve zehra'dan büyüktür.\n"
     ]
    }
   ],
   "source": [
    "ferza=22\n",
    "beyza=20\n",
    "zehra=13\n",
    "if(ferza<beyza and beyza<zehra):\n",
    "    print(\"zehra, beyza ve ferza'dan büyüktür.\")\n",
    "elif(zehra<ferza & ferza<beyza):\n",
    "    print(\"beyza, zehra ve ferza'dan büyüktür.\")\n",
    "else:\n",
    "    print(\"ferza, beyza ve zehra'dan büyüktür.\")"
   ]
  },
  {
   "cell_type": "markdown",
   "id": "a1a0eb92",
   "metadata": {},
   "source": [
    "# 3\n",
    "Kullanıcıdan iki değer girmesini istenir. Girilen değerlerin toplama, çıkarma, çarpma, bölme sonuçlarını yazdırılır."
   ]
  },
  {
   "cell_type": "code",
   "execution_count": 1,
   "id": "c361e45a",
   "metadata": {},
   "outputs": [
    {
     "name": "stdin",
     "output_type": "stream",
     "text": [
      "bir tamsayi değeri giriniz: 10\n",
      "bir tamsayi değeri giriniz: 3\n"
     ]
    },
    {
     "name": "stdout",
     "output_type": "stream",
     "text": [
      "a+b:  13\n",
      "a-b:  7\n",
      "a*b:  30\n",
      "a/b:  1\n"
     ]
    }
   ],
   "source": [
    "a=int(input(\"bir tamsayi değeri giriniz:\"))\n",
    "b=int(input(\"bir tamsayi değeri giriniz:\"))\n",
    "toplam=a+b\n",
    "print(\"a+b: \",toplam)\n",
    "cikarma=a-b\n",
    "print(\"a-b: \",cikarma)\n",
    "carpma=a*b\n",
    "print(\"a*b: \",carpma)\n",
    "bölme=a%b\n",
    "print(\"a/b: \",bölme)"
   ]
  },
  {
   "cell_type": "markdown",
   "id": "060b0bea",
   "metadata": {},
   "source": [
    "# 4\n",
    "Kullanıcıdan isim, yaş, şehir ve meslek bilgilerini istenir ve cevaplarını yazdırılır."
   ]
  },
  {
   "cell_type": "code",
   "execution_count": 4,
   "id": "6f5dea59",
   "metadata": {},
   "outputs": [
    {
     "name": "stdin",
     "output_type": "stream",
     "text": [
      "lütfen isminizi giriniz: ferza\n",
      "yaşınızı giriniz: 22\n",
      "yaşadığınız şehri giriniz: istanbul\n",
      "mesleğinizi giriniz: öğrenci\n"
     ]
    },
    {
     "name": "stdout",
     "output_type": "stream",
     "text": [
      "ismi: ferza\n",
      "yaş: 22\n",
      "şehir: istanbul\n",
      "meslek: öğrenci\n"
     ]
    }
   ],
   "source": [
    "isim=input(\"lütfen isminizi giriniz:\")\n",
    "yas=int(input(\"yaşınızı giriniz:\"))\n",
    "sehir=input(\"yaşadığınız şehri giriniz:\")\n",
    "meslek=input(\"mesleğinizi giriniz:\")\n",
    "print(\"ismi:\",isim)\n",
    "print(\"yaş:\",yas)\n",
    "print(\"şehir:\",sehir)\n",
    "print(\"meslek:\",meslek)"
   ]
  },
  {
   "cell_type": "markdown",
   "id": "55e1a34e",
   "metadata": {},
   "source": [
    "# 5\n",
    "\"Hi-Kod Veri Bilimi Atölyesi\" ifadesini bir değişkene tanımlanır.\n",
    "\n",
    "\n",
    " 1. İfadedeki her bir kelimeyi (\"Hi-Kod\", \"Veri\", \"Bilimi\", \"Atölyesi\") değişken içinden seçilir. \n",
    " 2. İfadeyi hepsini büyük harf olacak hale çevrilir. (\"HI-KOD VERİ BİLİMİ ATÖLYESİ\") \n",
    " 3. İfadeyi hepsini büyük harf olacak hale çevrilir.(\"hi-kod veri bilimi atölyesi\") \n",
    "\n",
    "\"0123456789\" ifadesindeki yalnızca çift sayıları ve yalnızca tek sayıları seçilir. (\"02468\", \"13579\")"
   ]
  },
  {
   "cell_type": "code",
   "execution_count": 11,
   "id": "0fc1bc40",
   "metadata": {},
   "outputs": [
    {
     "name": "stdout",
     "output_type": "stream",
     "text": [
      "Kelimeler: ['Hi', 'Kod', 'Veri', 'Bilimi', 'Atölyesi']\n",
      "büyük harfli metin: HI-KOD VERI BILIMI ATÖLYESI\n",
      "küçük harfli metin: hi-kod veri bilimi atölyesi\n",
      "çift sayılar:  02468\n",
      "tek sayılar: 13579\n"
     ]
    }
   ],
   "source": [
    "metin=\"Hi-Kod Veri Bilimi Atölyesi\"\n",
    "kelimeler= metin.replace(\"-\",\" \").split()\n",
    "print(\"Kelimeler:\",kelimeler)\n",
    "buyuk_harf=metin.upper()\n",
    "print(\"büyük harfli metin:\",buyuk_harf)\n",
    "kucuk_harf=metin.lower()\n",
    "print(\"küçük harfli metin:\",kucuk_harf)\n",
    "\n",
    "sayi=\"0123456789\"\n",
    "cift_sayilar=\" \"\n",
    "tek_sayilar=\"\"\n",
    "for i in sayi:\n",
    " if int(i)%2==0:\n",
    "  cift_sayilar+=i\n",
    " else:\n",
    "  tek_sayilar+=i\n",
    "print(\"çift sayılar:\", cift_sayilar)\n",
    "print(\"tek sayılar:\",tek_sayilar)"
   ]
  },
  {
   "cell_type": "code",
   "execution_count": null,
   "id": "54a6eaec-aa7c-430c-805b-726b95af6dec",
   "metadata": {},
   "outputs": [],
   "source": []
  }
 ],
 "metadata": {
  "kernelspec": {
   "display_name": "Python 3 (ipykernel)",
   "language": "python",
   "name": "python3"
  },
  "language_info": {
   "codemirror_mode": {
    "name": "ipython",
    "version": 3
   },
   "file_extension": ".py",
   "mimetype": "text/x-python",
   "name": "python",
   "nbconvert_exporter": "python",
   "pygments_lexer": "ipython3",
   "version": "3.12.7"
  }
 },
 "nbformat": 4,
 "nbformat_minor": 5
}
